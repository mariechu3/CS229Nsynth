{
  "nbformat": 4,
  "nbformat_minor": 0,
  "metadata": {
    "colab": {
      "provenance": [],
      "gpuType": "T4"
    },
    "kernelspec": {
      "name": "python3",
      "display_name": "Python 3"
    },
    "language_info": {
      "name": "python"
    },
    "accelerator": "GPU"
  },
  "cells": [
    {
      "cell_type": "code",
      "execution_count": 2,
      "metadata": {
        "colab": {
          "base_uri": "https://localhost:8080/"
        },
        "id": "YV-nrGROFCdm",
        "outputId": "2af3aa50-620d-422f-b160-3b191f2dfc88"
      },
      "outputs": [
        {
          "output_type": "stream",
          "name": "stdout",
          "text": [
            "Mounted at /content/drive\n",
            "/content/drive/MyDrive/CS229\n",
            "NSynth\ttest  test_classes  train  train_classes  valid  valid_classes\n"
          ]
        }
      ],
      "source": [
        "from google.colab import drive\n",
        "drive.mount('/content/drive')\n",
        "%cd /content/drive/MyDrive/CS229\n",
        "! ls # verify that you are in the right directory"
      ]
    },
    {
      "cell_type": "code",
      "source": [
        "import torch\n",
        "import torch.nn as nn\n",
        "import torch.optim as optim\n",
        "import torch.nn.functional as F\n",
        "import numpy as np\n",
        "import torchvision\n",
        "from torchvision import *\n",
        "from torch.utils.data import Dataset, DataLoader\n",
        "\n",
        "import matplotlib.pyplot as plt\n",
        "import time\n",
        "import copy\n",
        "import os\n",
        "\n",
        "batch_size = 8\n",
        "learning_rate = 1e-3\n",
        "\n",
        "transforms = transforms.Compose(\n",
        "[\n",
        "    transforms.Resize((480,640)),\n",
        "    transforms.ToTensor()\n",
        "])\n",
        "\n",
        "train_dataset = datasets.ImageFolder(root='train_classes', transform=transforms)\n",
        "valid_dataset = datasets.ImageFolder(root='valid_classes', transform=transforms)\n",
        "test_dataset = datasets.ImageFolder(root='test_classes', transform=transforms)\n",
        "\n",
        "train_dataloader = DataLoader(train_dataset, batch_size=batch_size, shuffle=True)\n",
        "valid_dataloader = DataLoader(valid_dataset, batch_size=batch_size, shuffle=True)\n",
        "test_dataloader = DataLoader(test_dataset, batch_size=batch_size, shuffle=True)\n",
        "device = torch.device('cuda:0' if torch.cuda.is_available() else 'cpu')\n",
        "\n",
        "# def imshow(inp, title=None):\n",
        "    \n",
        "#     inp = inp.cpu() if device else inp\n",
        "#     inp = inp.numpy().transpose((1, 2, 0))\n",
        "    \n",
        "#     mean = np.array([0.485, 0.456, 0.406])\n",
        "#     std = np.array([0.229, 0.224, 0.225])\n",
        "#     inp = std * inp + mean\n",
        "#     inp = np.clip(inp, 0, 1)\n",
        "    \n",
        "#     plt.imshow(inp)\n",
        "#     if title is not None:\n",
        "#         plt.title(title)\n",
        "#     plt.pause(0.001)\n",
        "    \n",
        "images, labels = next(iter(train_dataloader)) \n",
        "print(\"images-size:\", images.shape)\n",
        "\n",
        "out = torchvision.utils.make_grid(images)\n",
        "print(\"out-size:\", out.shape)\n",
        "\n",
        "# imshow(out, title=[train_dataset.classes[x] for x in labels])"
      ],
      "metadata": {
        "colab": {
          "base_uri": "https://localhost:8080/"
        },
        "id": "MtU8D5ZFFl8R",
        "outputId": "183d255e-8ed4-4865-b42e-a549bb1337da"
      },
      "execution_count": 3,
      "outputs": [
        {
          "output_type": "stream",
          "name": "stdout",
          "text": [
            "images-size: torch.Size([8, 3, 480, 640])\n",
            "out-size: torch.Size([3, 484, 5138])\n"
          ]
        }
      ]
    },
    {
      "cell_type": "code",
      "source": [
        "net = models.resnet18(pretrained=True)\n",
        "net = net.cuda() if device else net\n",
        "net"
      ],
      "metadata": {
        "colab": {
          "base_uri": "https://localhost:8080/"
        },
        "id": "MLeXOuY2FmrK",
        "outputId": "db794335-b574-474b-d00b-1e042f9d1c2c"
      },
      "execution_count": 4,
      "outputs": [
        {
          "output_type": "stream",
          "name": "stderr",
          "text": [
            "/usr/local/lib/python3.10/dist-packages/torchvision/models/_utils.py:208: UserWarning: The parameter 'pretrained' is deprecated since 0.13 and may be removed in the future, please use 'weights' instead.\n",
            "  warnings.warn(\n",
            "/usr/local/lib/python3.10/dist-packages/torchvision/models/_utils.py:223: UserWarning: Arguments other than a weight enum or `None` for 'weights' are deprecated since 0.13 and may be removed in the future. The current behavior is equivalent to passing `weights=ResNet18_Weights.IMAGENET1K_V1`. You can also use `weights=ResNet18_Weights.DEFAULT` to get the most up-to-date weights.\n",
            "  warnings.warn(msg)\n",
            "Downloading: \"https://download.pytorch.org/models/resnet18-f37072fd.pth\" to /root/.cache/torch/hub/checkpoints/resnet18-f37072fd.pth\n",
            "100%|██████████| 44.7M/44.7M [00:01<00:00, 41.5MB/s]\n"
          ]
        },
        {
          "output_type": "execute_result",
          "data": {
            "text/plain": [
              "ResNet(\n",
              "  (conv1): Conv2d(3, 64, kernel_size=(7, 7), stride=(2, 2), padding=(3, 3), bias=False)\n",
              "  (bn1): BatchNorm2d(64, eps=1e-05, momentum=0.1, affine=True, track_running_stats=True)\n",
              "  (relu): ReLU(inplace=True)\n",
              "  (maxpool): MaxPool2d(kernel_size=3, stride=2, padding=1, dilation=1, ceil_mode=False)\n",
              "  (layer1): Sequential(\n",
              "    (0): BasicBlock(\n",
              "      (conv1): Conv2d(64, 64, kernel_size=(3, 3), stride=(1, 1), padding=(1, 1), bias=False)\n",
              "      (bn1): BatchNorm2d(64, eps=1e-05, momentum=0.1, affine=True, track_running_stats=True)\n",
              "      (relu): ReLU(inplace=True)\n",
              "      (conv2): Conv2d(64, 64, kernel_size=(3, 3), stride=(1, 1), padding=(1, 1), bias=False)\n",
              "      (bn2): BatchNorm2d(64, eps=1e-05, momentum=0.1, affine=True, track_running_stats=True)\n",
              "    )\n",
              "    (1): BasicBlock(\n",
              "      (conv1): Conv2d(64, 64, kernel_size=(3, 3), stride=(1, 1), padding=(1, 1), bias=False)\n",
              "      (bn1): BatchNorm2d(64, eps=1e-05, momentum=0.1, affine=True, track_running_stats=True)\n",
              "      (relu): ReLU(inplace=True)\n",
              "      (conv2): Conv2d(64, 64, kernel_size=(3, 3), stride=(1, 1), padding=(1, 1), bias=False)\n",
              "      (bn2): BatchNorm2d(64, eps=1e-05, momentum=0.1, affine=True, track_running_stats=True)\n",
              "    )\n",
              "  )\n",
              "  (layer2): Sequential(\n",
              "    (0): BasicBlock(\n",
              "      (conv1): Conv2d(64, 128, kernel_size=(3, 3), stride=(2, 2), padding=(1, 1), bias=False)\n",
              "      (bn1): BatchNorm2d(128, eps=1e-05, momentum=0.1, affine=True, track_running_stats=True)\n",
              "      (relu): ReLU(inplace=True)\n",
              "      (conv2): Conv2d(128, 128, kernel_size=(3, 3), stride=(1, 1), padding=(1, 1), bias=False)\n",
              "      (bn2): BatchNorm2d(128, eps=1e-05, momentum=0.1, affine=True, track_running_stats=True)\n",
              "      (downsample): Sequential(\n",
              "        (0): Conv2d(64, 128, kernel_size=(1, 1), stride=(2, 2), bias=False)\n",
              "        (1): BatchNorm2d(128, eps=1e-05, momentum=0.1, affine=True, track_running_stats=True)\n",
              "      )\n",
              "    )\n",
              "    (1): BasicBlock(\n",
              "      (conv1): Conv2d(128, 128, kernel_size=(3, 3), stride=(1, 1), padding=(1, 1), bias=False)\n",
              "      (bn1): BatchNorm2d(128, eps=1e-05, momentum=0.1, affine=True, track_running_stats=True)\n",
              "      (relu): ReLU(inplace=True)\n",
              "      (conv2): Conv2d(128, 128, kernel_size=(3, 3), stride=(1, 1), padding=(1, 1), bias=False)\n",
              "      (bn2): BatchNorm2d(128, eps=1e-05, momentum=0.1, affine=True, track_running_stats=True)\n",
              "    )\n",
              "  )\n",
              "  (layer3): Sequential(\n",
              "    (0): BasicBlock(\n",
              "      (conv1): Conv2d(128, 256, kernel_size=(3, 3), stride=(2, 2), padding=(1, 1), bias=False)\n",
              "      (bn1): BatchNorm2d(256, eps=1e-05, momentum=0.1, affine=True, track_running_stats=True)\n",
              "      (relu): ReLU(inplace=True)\n",
              "      (conv2): Conv2d(256, 256, kernel_size=(3, 3), stride=(1, 1), padding=(1, 1), bias=False)\n",
              "      (bn2): BatchNorm2d(256, eps=1e-05, momentum=0.1, affine=True, track_running_stats=True)\n",
              "      (downsample): Sequential(\n",
              "        (0): Conv2d(128, 256, kernel_size=(1, 1), stride=(2, 2), bias=False)\n",
              "        (1): BatchNorm2d(256, eps=1e-05, momentum=0.1, affine=True, track_running_stats=True)\n",
              "      )\n",
              "    )\n",
              "    (1): BasicBlock(\n",
              "      (conv1): Conv2d(256, 256, kernel_size=(3, 3), stride=(1, 1), padding=(1, 1), bias=False)\n",
              "      (bn1): BatchNorm2d(256, eps=1e-05, momentum=0.1, affine=True, track_running_stats=True)\n",
              "      (relu): ReLU(inplace=True)\n",
              "      (conv2): Conv2d(256, 256, kernel_size=(3, 3), stride=(1, 1), padding=(1, 1), bias=False)\n",
              "      (bn2): BatchNorm2d(256, eps=1e-05, momentum=0.1, affine=True, track_running_stats=True)\n",
              "    )\n",
              "  )\n",
              "  (layer4): Sequential(\n",
              "    (0): BasicBlock(\n",
              "      (conv1): Conv2d(256, 512, kernel_size=(3, 3), stride=(2, 2), padding=(1, 1), bias=False)\n",
              "      (bn1): BatchNorm2d(512, eps=1e-05, momentum=0.1, affine=True, track_running_stats=True)\n",
              "      (relu): ReLU(inplace=True)\n",
              "      (conv2): Conv2d(512, 512, kernel_size=(3, 3), stride=(1, 1), padding=(1, 1), bias=False)\n",
              "      (bn2): BatchNorm2d(512, eps=1e-05, momentum=0.1, affine=True, track_running_stats=True)\n",
              "      (downsample): Sequential(\n",
              "        (0): Conv2d(256, 512, kernel_size=(1, 1), stride=(2, 2), bias=False)\n",
              "        (1): BatchNorm2d(512, eps=1e-05, momentum=0.1, affine=True, track_running_stats=True)\n",
              "      )\n",
              "    )\n",
              "    (1): BasicBlock(\n",
              "      (conv1): Conv2d(512, 512, kernel_size=(3, 3), stride=(1, 1), padding=(1, 1), bias=False)\n",
              "      (bn1): BatchNorm2d(512, eps=1e-05, momentum=0.1, affine=True, track_running_stats=True)\n",
              "      (relu): ReLU(inplace=True)\n",
              "      (conv2): Conv2d(512, 512, kernel_size=(3, 3), stride=(1, 1), padding=(1, 1), bias=False)\n",
              "      (bn2): BatchNorm2d(512, eps=1e-05, momentum=0.1, affine=True, track_running_stats=True)\n",
              "    )\n",
              "  )\n",
              "  (avgpool): AdaptiveAvgPool2d(output_size=(1, 1))\n",
              "  (fc): Linear(in_features=512, out_features=1000, bias=True)\n",
              ")"
            ]
          },
          "metadata": {},
          "execution_count": 4
        }
      ]
    },
    {
      "cell_type": "code",
      "source": [
        "criterion = nn.CrossEntropyLoss()\n",
        "optimizer = optim.SGD(net.parameters(), lr=0.0001, momentum=0.9)\n",
        "\n",
        "def accuracy(out, labels):\n",
        "    _,pred = torch.max(out, dim=1)\n",
        "    return torch.sum(pred==labels).item()\n",
        "\n",
        "num_ftrs = net.fc.in_features\n",
        "net.fc = nn.Linear(num_ftrs, 128)\n",
        "net.fc = net.fc.cuda() if device else net.fc"
      ],
      "metadata": {
        "id": "plwBrnXLi6dR"
      },
      "execution_count": 5,
      "outputs": []
    },
    {
      "cell_type": "code",
      "source": [
        "n_epochs = 5\n",
        "print_every = 10\n",
        "valid_loss_min = np.Inf\n",
        "val_loss = []\n",
        "val_acc = []\n",
        "train_loss = []\n",
        "train_acc = []\n",
        "total_step = len(train_dataloader)\n",
        "for epoch in range(n_epochs):\n",
        "    running_loss = 0.0\n",
        "    correct = 0\n",
        "    total=0\n",
        "    print(f'Epoch {epoch}\\n')\n",
        "    for batch_idx, (data_, target_) in enumerate(train_dataloader):\n",
        "        data_, target_ = data_.to(device), target_.to(device)\n",
        "        optimizer.zero_grad()\n",
        "        \n",
        "        outputs = net(data_)\n",
        "        loss = criterion(outputs, target_)\n",
        "        loss.backward()\n",
        "        optimizer.step()\n",
        "\n",
        "        running_loss += loss.item()\n",
        "        _,pred = torch.max(outputs, dim=1)\n",
        "        correct += torch.sum(pred==target_).item()\n",
        "        total += target_.size(0)\n",
        "        if (batch_idx) % 20 == 0:\n",
        "            print ('Epoch [{}/{}], Step [{}/{}], Loss: {:.4f}' \n",
        "                   .format(epoch, n_epochs, batch_idx, total_step, loss.item()))\n",
        "    train_acc.append(100 * correct / total)\n",
        "    train_loss.append(running_loss/total_step)\n",
        "    print(f'\\ntrain-loss: {np.mean(train_loss):.4f}, train-acc: {(100 * correct/total):.4f}')\n",
        "    batch_loss = 0\n",
        "    total_t=0\n",
        "    correct_t=0\n",
        "    with torch.no_grad():\n",
        "        net.eval()\n",
        "        for data_t, target_t in (test_dataloader):\n",
        "            data_t, target_t = data_t.to(device), target_t.to(device)\n",
        "            outputs_t = net(data_t)\n",
        "            loss_t = criterion(outputs_t, target_t)\n",
        "            batch_loss += loss_t.item()\n",
        "            _,pred_t = torch.max(outputs_t, dim=1)\n",
        "            correct_t += torch.sum(pred_t==target_t).item()\n",
        "            total_t += target_t.size(0)\n",
        "        val_acc.append(100 * correct_t/total_t)\n",
        "        val_loss.append(batch_loss/len(test_dataloader))\n",
        "        network_learned = batch_loss < valid_loss_min\n",
        "        print(f'validation loss: {np.mean(val_loss):.4f}, validation acc: {(100 * correct_t/total_t):.4f}\\n')\n",
        "\n",
        "        \n",
        "        if network_learned:\n",
        "            valid_loss_min = batch_loss\n",
        "            torch.save(net.state_dict(), 'resnet.pt')\n",
        "            print('Improvement-Detected, save-model')\n",
        "    net.train()"
      ],
      "metadata": {
        "colab": {
          "base_uri": "https://localhost:8080/"
        },
        "id": "EMkUQj3si_Yj",
        "outputId": "d3efa7d6-31a6-4ceb-ef54-993affe1bdab"
      },
      "execution_count": null,
      "outputs": [
        {
          "output_type": "stream",
          "name": "stdout",
          "text": [
            "Epoch 0\n",
            "\n",
            "Epoch [0/5], Step [0/1251], Loss: 5.2472\n",
            "Epoch [0/5], Step [20/1251], Loss: 5.2452\n",
            "Epoch [0/5], Step [40/1251], Loss: 5.0957\n",
            "Epoch [0/5], Step [60/1251], Loss: 4.9905\n",
            "Epoch [0/5], Step [80/1251], Loss: 5.0235\n",
            "Epoch [0/5], Step [100/1251], Loss: 4.7527\n",
            "Epoch [0/5], Step [120/1251], Loss: 4.7164\n",
            "Epoch [0/5], Step [140/1251], Loss: 4.6235\n",
            "Epoch [0/5], Step [160/1251], Loss: 4.4956\n",
            "Epoch [0/5], Step [180/1251], Loss: 4.8876\n",
            "Epoch [0/5], Step [200/1251], Loss: 4.4396\n",
            "Epoch [0/5], Step [220/1251], Loss: 4.3532\n",
            "Epoch [0/5], Step [240/1251], Loss: 4.2975\n",
            "Epoch [0/5], Step [260/1251], Loss: 4.4277\n",
            "Epoch [0/5], Step [280/1251], Loss: 4.3786\n",
            "Epoch [0/5], Step [300/1251], Loss: 4.2477\n",
            "Epoch [0/5], Step [320/1251], Loss: 4.3776\n",
            "Epoch [0/5], Step [340/1251], Loss: 3.8886\n",
            "Epoch [0/5], Step [360/1251], Loss: 3.7669\n",
            "Epoch [0/5], Step [380/1251], Loss: 4.0178\n",
            "Epoch [0/5], Step [400/1251], Loss: 3.8131\n",
            "Epoch [0/5], Step [420/1251], Loss: 3.5303\n",
            "Epoch [0/5], Step [440/1251], Loss: 3.6322\n",
            "Epoch [0/5], Step [460/1251], Loss: 3.5241\n",
            "Epoch [0/5], Step [480/1251], Loss: 3.4727\n",
            "Epoch [0/5], Step [500/1251], Loss: 3.7465\n",
            "Epoch [0/5], Step [520/1251], Loss: 3.6679\n",
            "Epoch [0/5], Step [540/1251], Loss: 4.4274\n",
            "Epoch [0/5], Step [560/1251], Loss: 3.3612\n",
            "Epoch [0/5], Step [580/1251], Loss: 4.7373\n",
            "Epoch [0/5], Step [600/1251], Loss: 3.5050\n",
            "Epoch [0/5], Step [620/1251], Loss: 3.2459\n",
            "Epoch [0/5], Step [640/1251], Loss: 3.8270\n",
            "Epoch [0/5], Step [660/1251], Loss: 3.3698\n",
            "Epoch [0/5], Step [680/1251], Loss: 3.0903\n",
            "Epoch [0/5], Step [700/1251], Loss: 3.9764\n",
            "Epoch [0/5], Step [720/1251], Loss: 5.1993\n",
            "Epoch [0/5], Step [740/1251], Loss: 3.0437\n",
            "Epoch [0/5], Step [760/1251], Loss: 3.3519\n",
            "Epoch [0/5], Step [780/1251], Loss: 3.4851\n",
            "Epoch [0/5], Step [800/1251], Loss: 3.1533\n",
            "Epoch [0/5], Step [820/1251], Loss: 3.6238\n",
            "Epoch [0/5], Step [840/1251], Loss: 2.9976\n",
            "Epoch [0/5], Step [860/1251], Loss: 3.1620\n",
            "Epoch [0/5], Step [880/1251], Loss: 3.8682\n",
            "Epoch [0/5], Step [900/1251], Loss: 2.9615\n",
            "Epoch [0/5], Step [920/1251], Loss: 2.9275\n",
            "Epoch [0/5], Step [940/1251], Loss: 3.5370\n",
            "Epoch [0/5], Step [960/1251], Loss: 4.7653\n",
            "Epoch [0/5], Step [980/1251], Loss: 2.9791\n",
            "Epoch [0/5], Step [1000/1251], Loss: 2.9548\n",
            "Epoch [0/5], Step [1020/1251], Loss: 3.3376\n",
            "Epoch [0/5], Step [1040/1251], Loss: 3.0710\n",
            "Epoch [0/5], Step [1060/1251], Loss: 3.1942\n",
            "Epoch [0/5], Step [1080/1251], Loss: 3.0351\n",
            "Epoch [0/5], Step [1100/1251], Loss: 2.9506\n",
            "Epoch [0/5], Step [1120/1251], Loss: 2.7644\n",
            "Epoch [0/5], Step [1140/1251], Loss: 3.2775\n",
            "Epoch [0/5], Step [1160/1251], Loss: 3.1561\n",
            "Epoch [0/5], Step [1180/1251], Loss: 2.7094\n",
            "Epoch [0/5], Step [1200/1251], Loss: 4.3653\n",
            "Epoch [0/5], Step [1220/1251], Loss: 3.0611\n"
          ]
        }
      ]
    },
    {
      "cell_type": "code",
      "source": [
        "fig = plt.figure(figsize=(20,10))\n",
        "plt.title(\"Train-Validation Accuracy\")\n",
        "plt.plot(train_acc, label='train')\n",
        "plt.plot(val_acc, label='validation')\n",
        "plt.xlabel('num_epochs', fontsize=12)\n",
        "plt.ylabel('accuracy', fontsize=12)\n",
        "plt.legend(loc='best')"
      ],
      "metadata": {
        "id": "28aq2ifljCjc"
      },
      "execution_count": null,
      "outputs": []
    },
    {
      "cell_type": "code",
      "source": [
        "def visualize_model(net, num_images=4):\n",
        "    images_so_far = 0\n",
        "    fig = plt.figure(figsize=(15, 10))\n",
        "    \n",
        "    for i, data in enumerate(test_dataloader):\n",
        "        inputs, labels = data\n",
        "        if use_cuda:\n",
        "            inputs, labels = inputs.cuda(), labels.cuda()\n",
        "        outputs = net(inputs)\n",
        "        _, preds = torch.max(outputs.data, 1)\n",
        "        preds = preds.cpu().numpy() if use_cuda else preds.numpy()\n",
        "        for j in range(inputs.size()[0]):\n",
        "            images_so_far += 1\n",
        "            ax = plt.subplot(2, num_images//2, images_so_far)\n",
        "            ax.axis('off')\n",
        "            ax.set_title('predictes: {}'.format(test_dataset.classes[preds[j]]))\n",
        "            imshow(inputs[j])\n",
        "            \n",
        "            if images_so_far == num_images:\n",
        "                return \n",
        "\n",
        "plt.ion()\n",
        "visualize_model(net)\n",
        "plt.ioff()"
      ],
      "metadata": {
        "id": "uV64a58XjIRD"
      },
      "execution_count": null,
      "outputs": []
    }
  ]
}